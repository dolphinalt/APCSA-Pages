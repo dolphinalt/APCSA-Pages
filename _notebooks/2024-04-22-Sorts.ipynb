{
 "cells": [
  {
   "cell_type": "markdown",
   "metadata": {},
   "source": [
    "---\n",
    "toc: true\n",
    "comments: true\n",
    "layout: notebook\n",
    "title: Sorts\n",
    "description: Sorts Lesson Draft\n",
    "type: hacks\n",
    "permalink:\n",
    "---"
   ]
  },
  {
   "cell_type": "markdown",
   "metadata": {},
   "source": [
    "## Insertion Sort\n",
    "Insertion Sort is probably the simplest of all sorting algorithms, and the most intuitive. We select a value and compare it to other values until it's properly sorted. This means we need to traverse through all the values in the array twice, once to select the value and once to compare it to the other values. Thus, you traverse through the array n times, then n times again. This allows us to figure out it's time complexity, which is O(n^2).\n",
    "\n",
    "### Pseudocode\n",
    "We start by selecting the second element of the array and compare it to the 1st. If our selected element is smaller than the 1st, we swap them. We repeat this over and over again until the list is sorted.\n",
    "\n",
    "```\n",
    "INSERTION-SORT(Array)\n",
    "    for index = 0 to length of Array, incrementing index by 1 every time\n",
    "        value1 = Array[index]\n",
    "        // Insert value1 into the sorted array\n",
    "        compareIndex = index + 1\n",
    "        while compareIndex < length of Array and Array[indexToSort] > key\n",
    "            Array[indexToSort + 1] = Array[indexToSort]\n",
    "            indexToSort = indexToSort - 1\n",
    "            Array[indexToSort + 1] = key\n",
    "```\n",
    "\n",
    "### Code"
   ]
  },
  {
   "cell_type": "code",
   "execution_count": 26,
   "metadata": {},
   "outputs": [
    {
     "name": "stdout",
     "output_type": "stream",
     "text": [
      "0 1 2 3 4 5 6 7 8 9 \n"
     ]
    }
   ],
   "source": [
    "private static void printArray(int[] array) {\n",
    "    for (int i:array) {\n",
    "        System.out.print(i + \" \");\n",
    "    }\n",
    "    System.out.println();\n",
    "}\n",
    "\n",
    "public class insertionSort {\n",
    "    public static int[] insertionSort(int[] array) {\n",
    "        for (int i=1; i<array.length; i++) {\n",
    "            int key=array[i];\n",
    "            int j=i-1;\n",
    "            while (j>=0 && array[j] > key) {\n",
    "                array[j+1] = array[j];\n",
    "                j--;\n",
    "            }\n",
    "            array[j+1] = key;\n",
    "        }\n",
    "        return array;\n",
    "    }\n",
    "}\n",
    "\n",
    "int[] array = {5, 3, 7, 2, 8, 1, 9, 4, 0, 6};\n",
    "printArray(insertionSort.insertionSort(array));"
   ]
  },
  {
   "cell_type": "markdown",
   "metadata": {},
   "source": [
    "## Selection Sort\n",
    "\n",
    "\n",
    "### Pseudocode\n",
    "\n",
    "\n",
    "### Code"
   ]
  }
 ],
 "metadata": {
  "kernelspec": {
   "display_name": "Java",
   "language": "java",
   "name": "java"
  },
  "language_info": {
   "codemirror_mode": "java",
   "file_extension": ".jshell",
   "mimetype": "text/x-java-source",
   "name": "java",
   "pygments_lexer": "java",
   "version": "21.0.1"
  }
 },
 "nbformat": 4,
 "nbformat_minor": 2
}
