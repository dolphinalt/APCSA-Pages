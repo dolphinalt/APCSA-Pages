{
 "cells": [
  {
   "attachments": {},
   "cell_type": "markdown",
   "metadata": {},
   "source": [
    "---\n",
    "title: Build A Project\n",
    "author: Ethan\n",
    "date: 2023-08-18 11:33:00 +0800\n",
    "week: 0\n",
    "categories: [Week0]\n",
    "tags: [week0]\n",
    "pin: false\n",
    "mermaid: false\n",
    "---"
   ]
  },
  {
   "attachments": {},
   "cell_type": "markdown",
   "metadata": {},
   "source": [
    "# Calculator"
   ]
  },
  {
   "attachments": {},
   "cell_type": "markdown",
   "metadata": {},
   "source": [
    "Click the buttons to enter their respective functions. An eval is ran on the string in the calculator screen when the equals button is pressed. This gives us the output of the mathematical operation requested."
   ]
  },
  {
   "attachments": {},
   "cell_type": "markdown",
   "metadata": {},
   "source": [
    "\n",
    "<html>\n",
    "    <head>\n",
    "        <meta charset=\"utf-8\">\n",
    "        <title>Calculator</title>\n",
    "        <meta name=\"description\" content=\"\">\n",
    "        <style>\n",
    "            .circle {\n",
    "                position: absolute;\n",
    "                height: 50px;\n",
    "                width: 50px;\n",
    "                border-radius: 50%;\n",
    "                text-align: center;\n",
    "                vertical-align: middle;\n",
    "            }\n",
    "            .longCircle {\n",
    "                position: absolute;\n",
    "                height: 50px;\n",
    "                width: 125px;\n",
    "                border-radius: 25px;\n",
    "                text-align: center;\n",
    "                vertical-align: middle;\n",
    "            }\n",
    "        </style>\n",
    "    </head>\n",
    "    <body style=\"background-color: #000101; color: #F8F8F8; margin-bottom: 1000%\">\n",
    "        <script>\n",
    "            reset=false;\n",
    "            result=\"\";\n",
    "            function calc(val) {\n",
    "                if (val == \"AC\") {\n",
    "                    document.getElementById(\"calcScreen\").innerHTML = 0;\n",
    "                }else if (val == \"=\") {\n",
    "                    evaluate=eval(document.getElementById(\"calcScreen\").innerHTML);\n",
    "                    document.getElementById(\"calcScreen\").innerHTML=(evaluate);\n",
    "                } else {\n",
    "                    if (document.getElementById(\"calcScreen\").innerHTML == 0) {\n",
    "                        document.getElementById(\"calcScreen\").innerHTML = \"\";\n",
    "                        document.getElementById(\"calcScreen\").innerHTML += val;\n",
    "                    } else if (reset) {\n",
    "                        console.log(\"reset\")\n",
    "                        document.getElementById(\"calcScreen\").innerHTML = \"\";\n",
    "                        document.getElementById(\"calcScreen\").innerHTML += val;\n",
    "                    } else {\n",
    "                        if (document.getElementById(\"calcScreen\").innerHTML == result) {\n",
    "                            document.getElementById(\"calcScreen\").innerHTML = \"\";\n",
    "                        }\n",
    "                        document.getElementById(\"calcScreen\").innerHTML += val;\n",
    "                    }\n",
    "                }\n",
    "            }\n",
    "        </script>\n",
    "\n",
    "        <div style=\"position: absolute; top: 300px; left: 135px; width: 225px; font-size: 32px;\"><p id=\"calcScreen\" ALIGN=RIGHT>0</p></div>\n",
    "\n",
    "        <div class=\"circle\" style=\"background-color: #9E9F9E; top: 400px; left: 100px; color: #000101;\" onClick=\"calc('AC')\">AC</div>\n",
    "        <div class=\"circle\" style=\"background-color: #9E9F9E; top: 400px; left: 175px; color: #000101;\" onClick=\"calc('sign')\">+/-</div>\n",
    "        <div class=\"circle\" style=\"background-color: #9E9F9E; top: 400px; left: 250px; color: #000101;\">%</div>\n",
    "        <div id = \"/\" class=\"circle\" style=\"background-color: #EA9B3E; top: 400px; left: 325px;\" onClick=\"calc('/')\">÷</div>\n",
    "\n",
    "        <div class=\"circle\" style=\"background-color: #313030; top: 475px; left: 100px;\" onClick=\"calc('7')\">7</div>\n",
    "        <div class=\"circle\" style=\"background-color: #313030; top: 475px; left: 175px;\" onClick=\"calc('8')\">8</div>\n",
    "        <div class=\"circle\" style=\"background-color: #313030; top: 475px; left: 250px;\" onClick=\"calc('9')\">9</div>\n",
    "        <div id = \"x\" class=\"circle\" style=\"background-color: #EA9B3E; top: 475px; left: 325px;\" onClick=\"calc('*')\">x</div>\n",
    "\n",
    "        <div class=\"circle\" style=\"background-color: #313030; top: 550px; left: 100px;\" onClick=\"calc('4')\">4</div>\n",
    "        <div class=\"circle\" style=\"background-color: #313030; top: 550px; left: 175px;\" onClick=\"calc('5')\">5</div>\n",
    "        <div class=\"circle\" style=\"background-color: #313030; top: 550px; left: 250px;\" onClick=\"calc('6')\">6</div>\n",
    "        <div id = \"-\" class=\"circle\" style=\"background-color: #EA9B3E; top: 550px; left: 325px;\" onClick=\"calc('-')\">-</div>\n",
    "\n",
    "        <div class=\"circle\" style=\"background-color: #313030; top: 625px; left: 100px;\" onClick=\"calc('1')\">1</div>\n",
    "        <div class=\"circle\" style=\"background-color: #313030; top: 625px; left: 175px;\" onClick=\"calc('2')\">2</div>\n",
    "        <div class=\"circle\" style=\"background-color: #313030; top: 625px; left: 250px;\" onClick=\"calc('3')\">3</div>\n",
    "        <div id = \"+\" class=\"circle\" style=\"background-color: #EA9B3E; top: 625px; left: 325px;\" onClick=\"calc('+')\">+</div>\n",
    "\n",
    "        <div class=\"longCircle\" style=\"background-color: #313030; top: 700px; left: 100px;\" onClick=\"calc('0')\">0</div>\n",
    "        <div class=\"circle\" style=\"background-color: #313030; top: 700px; left: 250px;\">.</div>\n",
    "        <div class=\"circle\" style=\"background-color: #EA9B3E; top: 700px; left: 325px;\" onClick=\"calc('=')\">=</div>\n",
    "    </body>\n",
    "</html>"
   ]
  }
 ],
 "metadata": {
  "kernelspec": {
   "display_name": "Python 3",
   "language": "python",
   "name": "python3"
  },
  "language_info": {
   "codemirror_mode": {
    "name": "ipython",
    "version": 3
   },
   "file_extension": ".py",
   "mimetype": "text/x-python",
   "name": "python",
   "nbconvert_exporter": "python",
   "pygments_lexer": "ipython3",
   "version": "3.10.13 (main, Aug 24 2023, 22:46:18) [Clang 14.0.0 (clang-1400.0.29.202)]"
  },
  "orig_nbformat": 4,
  "vscode": {
   "interpreter": {
    "hash": "7e1998ff7f8aa20ada591c520b972326324e5ea05489af9e422744c7c09f6dad"
   }
  }
 },
 "nbformat": 4,
 "nbformat_minor": 2
}
