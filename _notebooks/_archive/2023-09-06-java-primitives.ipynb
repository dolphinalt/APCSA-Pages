{
 "cells": [
  {
   "attachments": {},
   "cell_type": "markdown",
   "metadata": {},
   "source": [
    "---\n",
    "title: U1 Java Primitive Data Types\n",
    "author: Ethan\n",
    "date: 2023-09-11 11:33:00 +0800\n",
    "week: 4\n",
    "categories: [Week4]\n",
    "tags: week4\n",
    "type: hacks\n",
    "pin: false\n",
    "mermaid: false\n",
    "---"
   ]
  },
  {
   "attachments": {},
   "cell_type": "markdown",
   "metadata": {},
   "source": [
    "### Overview\n",
    "College Board Unit 1 has a focus on primitive types of int, double, and boolean.  In Unit 1, String is mentioned, but it is NOT a primitive type.  A String is essentially a sequence of characters and is called a reference data type, where each character is represented by the primitive `char` data type.\n",
    "\n",
    "This mini-lab covers a comprehensive overview of Java primitive types, input/output, and the use of wrapper classes and reference data types. The examples and explanations provided will greatly assist students in understanding these concepts and applying them in their own code.\n",
    "\n",
    "The mini-lab \"Hacks\" covers the essential aspects of primitive types in a concise manner. It provides students with opportunities for hands-on practice and encourages them to think creatively with the suggested activities."
   ]
  },
  {
   "attachments": {},
   "cell_type": "markdown",
   "metadata": {},
   "source": [
    "### Data Types\n",
    "Unit 1 focuses on primitive data types.  Now is a good time to compare primitives with other Java data types.  Review and compare data types with a focus on those prefixed with an asterisk, as they are required knowledge by College Board and will be on the AP Exam.\n",
    "\n",
    "[Primitive Data Types](https://www.geeksforgeeks.org/data-types-in-java/): These are the basic data types in Java, representing fundamental values.\n",
    "- *boolean: Represents true or false values.\n",
    "- byte: Represents a signed 8-bit integer value.\n",
    "- short: Represents a signed 16-bit integer value.\n",
    "- *int: Represents a signed 32-bit integer value.\n",
    "- long: Represents a signed 64-bit integer value.\n",
    "- float: Represents a single-precision 32-bit floating-point value.\n",
    "- *double: Represents a double-precision 64-bit floating-point value.\n",
    "- char: Represents a single Unicode character.\n",
    "\n",
    "Reference Data Types: These are more complex data types that can hold a collection of values or represent custom-defined entities.\n",
    "- *[String](https://www.geeksforgeeks.org/strings-in-java/): Represents a sequence of characters.\n",
    "- *[Arrays](https://www.geeksforgeeks.org/arrays-in-java/): Represents a collection of elements of the same data type.\n",
    "- *[Classes](https://www.geeksforgeeks.org/classes-objects-java/): In Java, classes can be used to define custom data structures and entities that may contain primitives, strings, enums, wrapper classes, or arrays. Programmers define their own reference data types to create abstract data types or data structures. A Users class or a Graph class for Graph Theory are custome data types.\n",
    "- *[Collection Framework](https://www.geeksforgeeks.org/collections-in-java-2/#): Java provides built-in classes like ArrayList, Queue, Stack, and HashMap as part of the Collections framework. A collection is an object that can hold references to other objects.  The Generic type declaration (ie \\<Integer\\>) allows the prorgrammer to provide the type of Object that a collection will contain, \n",
    "\n",
    "Hybrid Data Types\n",
    "- *[Wrapper Classes](https://www.youtube.com/watch?v=kog78g2fvqU): Represents primitive data types as oan bjects (e.g., Boolean, Integer, Double). They are classes but still behave like behavior of primitive types with regards to pass-by-value . Therefore, they are not considered true reference data types.\n",
    "- [Enums](https://www.geeksforgeeks.org/enum-in-java/#): Enums: Represents a fixed set of constants that are immutable. Enums are useful for representing a predefined set of values (ie `public enum Suit {SPADES, CLUBS, HEARTS, DIAMONDS};`).  \n"
   ]
  },
  {
   "cell_type": "code",
   "execution_count": 1,
   "metadata": {
    "vscode": {
     "languageId": "java"
    }
   },
   "outputs": [
    {
     "name": "stdout",
     "output_type": "stream",
     "text": [
      "anInt: 100\n",
      "aDouble: 89.9\n",
      "aBoolean: true\n",
      "aString: Hello, World!\n",
      "aStringFormal: Greetings, World!\n"
     ]
    }
   ],
   "source": [
    "public class DefinePrimitives {\n",
    "    public static void main(String[] args) {\n",
    "      int anInt = 100;\n",
    "      double aDouble = 89.9;\n",
    "      boolean aBoolean = true;\n",
    "\n",
    "      // not primitives but essential\n",
    "      String aString = \"Hello, World!\";   // wrapper class shortcut assignment\n",
    "      String aStringFormal = new String(\"Greetings, World!\");\n",
    "  \n",
    "      System.out.println(\"anInt: \" + anInt);\n",
    "      System.out.println(\"aDouble: \" + aDouble);\n",
    "      System.out.println(\"aBoolean: \" + aBoolean);\n",
    "      System.out.println(\"aString: \" + aString);\n",
    "      System.out.println(\"aStringFormal: \" + aStringFormal);\n",
    "    }\n",
    "  }\n",
    "  DefinePrimitives.main(null)"
   ]
  },
  {
   "attachments": {},
   "cell_type": "markdown",
   "metadata": {},
   "source": [
    "### Input Primitive data\n",
    "Input is a key concept to all programming.  The assignments in previous example are \"static\" or \"hard coded\".  The examples when you use input are supplied by the user.\n",
    "\n",
    "Scanner is the java utility class for console input."
   ]
  },
  {
   "cell_type": "code",
   "execution_count": 3,
   "metadata": {
    "vscode": {
     "languageId": "java"
    }
   },
   "outputs": [
    {
     "name": "stdout",
     "output_type": "stream",
     "text": [
      "Enter an integer: 2\n",
      "Enter a double: 2.1\n",
      "Enter a boolean: true\n",
      "Enter a String: two\n"
     ]
    }
   ],
   "source": [
    "// import the Scanner class from the java.util package.\n",
    "import java.util.Scanner;\n",
    "\n",
    "// class must alway have 1st letter as uppercase, CamelCase is Java Class convention\n",
    "public class ScanPrimitives {\n",
    "    public static void main(String[] args) {    \n",
    "        Scanner input;\n",
    "\n",
    "        // primitive int\n",
    "        input = new Scanner(System.in);\n",
    "        System.out.print(\"Enter an integer: \");\n",
    "        try {\n",
    "            int sampleInputInt = input.nextInt();\n",
    "            System.out.println(sampleInputInt);\n",
    "        } catch (Exception e) {  // if not an integer\n",
    "            System.out.println(\"Not an integer (form like 159), \" + e);\n",
    "        } finally {\n",
    "            input.close();\n",
    "        }\n",
    "\n",
    "        // primitive double\n",
    "        input = new Scanner(System.in);\n",
    "        System.out.print(\"Enter a double: \");\n",
    "        try {\n",
    "            double sampleInputDouble = input.nextDouble();\n",
    "            System.out.println(sampleInputDouble);\n",
    "        } catch (Exception e) {  // if not a number\n",
    "            System.out.println(\"Not an double (form like 9.99), \" + e);\n",
    "        } finally {\n",
    "            input.close();\n",
    "        }\n",
    "\n",
    "        // primitive boolean\n",
    "        input =  new Scanner(System.in);\n",
    "        System.out.print(\"Enter a boolean: \");\n",
    "        try {\n",
    "            boolean sampleInputBoolean = input.nextBoolean();\n",
    "            System.out.println(sampleInputBoolean);\n",
    "        } catch (Exception e) {  // if not true or false\n",
    "            System.out.println(\"Not an boolean (true or false), \" + e);\n",
    "        } finally {\n",
    "            input.close();\n",
    "        }\n",
    "\n",
    "        // wrapper class String\n",
    "        input =  new Scanner(System.in);\n",
    "        System.out.print(\"Enter a String: \");\n",
    "        try {\n",
    "            String sampleInputString = input.nextLine();\n",
    "            System.out.println(sampleInputString);\n",
    "        } catch (Exception e) { // this may never happen\n",
    "            System.out.println(\"Not an String, \" + e);\n",
    "        } finally {\n",
    "            input.close();\n",
    "        }\n",
    "    }\n",
    "}\n",
    "ScanPrimitives.main(null);"
   ]
  },
  {
   "attachments": {},
   "cell_type": "markdown",
   "metadata": {},
   "source": [
    "### Output Primitive Data\n",
    "The second key to to all programming is Output.  All programming has means to format and combine data.  In these examples you see descriptions of the mathematical operation combine with the result of the operation."
   ]
  },
  {
   "cell_type": "code",
   "execution_count": 4,
   "metadata": {
    "vscode": {
     "languageId": "java"
    }
   },
   "outputs": [
    {
     "name": "stdout",
     "output_type": "stream",
     "text": [
      "Integer Division\n",
      "\tint output with concatenation: 7/2 = 3\n",
      "\tint output with format: 7/2 = 3\n",
      "\tint output with printf: 7/2 = 3\n",
      "Double Division\n",
      "\tdouble output with concatenation: 7.0/2.0 = 3.5\n",
      "\tdouble output with format: 7.00/2.00 = 3.50\n",
      "\tdouble output with printf: 7.00/2.00 = 3.50\n",
      "Casting and Remainders\n",
      "\tint cast to double on division: 7/2 = 3.50\n",
      "\tint using modulo for remainder: 7/2 = 3 remainder 1\n"
     ]
    }
   ],
   "source": [
    "public class PrimitiveDivision {\n",
    "    public static void main(String[] args) {\n",
    "        int i1 = 7, i2 = 2;\n",
    "        System.out.println(\"Integer Division\");\n",
    "        System.out.println(\"\\tint output with concatenation: \" + i1 + \"/\" + i2 + \" = \" + i1/i2);\n",
    "        System.out.println(String.format(\"\\tint output with format: %d/%d = %d\",i1, i2, i1/i2));\n",
    "        System.out.printf(\"\\tint output with printf: %d/%d = %d\\n\",i1, i2, i1/i2);\n",
    "\n",
    "        double d1 = 7, d2 = 2;\n",
    "        System.out.println(\"Double Division\");\n",
    "        System.out.println(\"\\tdouble output with concatenation: \" + d1 + \"/\" + d2 + \" = \" + d1/d2);\n",
    "        System.out.println(String.format(\"\\tdouble output with format: %.2f/%.2f = %.2f\",d1, d2, d1/d2));\n",
    "        System.out.printf(\"\\tdouble output with printf: %.2f/%.2f = %.2f\\n\",d1, d2, d1/d2);\n",
    "\n",
    "        System.out.println(\"Casting and Remainders\");\n",
    "        System.out.printf(\"\\tint cast to double on division: %d/%d = %.2f\\n\",i1, i2, i1/(double)i2);\n",
    "        System.out.println(\"\\tint using modulo for remainder: \" + i1 + \"/\" + i2 + \" = \" + i1/i2 + \" remainder \" + i1%i2);\n",
    "    }\n",
    "}\n",
    "PrimitiveDivision.main(null);"
   ]
  },
  {
   "attachments": {},
   "cell_type": "markdown",
   "metadata": {},
   "source": [
    "### Grade Calculator, putting Input and Output together\n",
    "Primitive types rarely stand alone.  This lab uses the primitive type double, but it also introduces the wrapper class Double.  Also included is one of the most common Data Structures in Java, the ArrayList.  These items are put together to create a grade calculator."
   ]
  },
  {
   "cell_type": "code",
   "execution_count": 5,
   "metadata": {
    "vscode": {
     "languageId": "java"
    }
   },
   "outputs": [
    {
     "name": "stdout",
     "output_type": "stream",
     "text": [
      "Enter a double, 0 to exit: 4.5\n",
      "Enter a double, 0 to exit: 4.4\n",
      "Enter a double, 0 to exit: 4.3\n",
      "Enter a double, 0 to exit: 4.3\n",
      "Enter a double, 0 to exit: 4.2\n",
      "Enter a double, 0 to exit: 4.0\n",
      "Enter a double, 0 to exit: 0.0\n",
      "Average: 4.28\n"
     ]
    }
   ],
   "source": [
    "public class GradeCalculator {\n",
    "    // introduction to Double wrapper class (object)\n",
    "    ArrayList<Double> grades;   // similar to Python list\n",
    "\n",
    "    // constructor, initializes ArrayList and call enterGrades method\n",
    "    public GradeCalculator() {\n",
    "        this.grades = new ArrayList<>();\n",
    "        this.enterGrades();\n",
    "    }\n",
    "\n",
    "    // double requires test for zero versus threshold, DO NOT compare to Zero\n",
    "    private boolean isZero(double value){\n",
    "        double threshold = 0.001;\n",
    "        return value >= -threshold && value <= threshold;\n",
    "    }\n",
    "\n",
    "\n",
    "    // enterGrades input method using scanner\n",
    "    private void enterGrades() {\n",
    "        Scanner input;\n",
    "\n",
    "        while (true) {\n",
    "            input = new Scanner(System.in);\n",
    "            System.out.print(\"Enter a double, 0 to exit: \");\n",
    "            try {\n",
    "                double sampleInputDouble = input.nextDouble();\n",
    "                System.out.println(sampleInputDouble);\n",
    "                if (isZero(sampleInputDouble)) break;       // exit loop on isZero\n",
    "                else this.grades.add(sampleInputDouble);    // adding to object, ArrayList grades\n",
    "            } catch (Exception e) {  // if not a number\n",
    "                System.out.println(\"Not an double (form like 9.99), \" + e);\n",
    "            }\n",
    "            input.close();\n",
    "        }\n",
    "    }\n",
    "\n",
    "    // average calculation \n",
    "    public double average() {\n",
    "        double total = 0;   // running total\n",
    "        for (double num : this.grades) {    // enhanced for loop\n",
    "            total += num;   // shortcut add and assign operator\n",
    "        }\n",
    "        return (total / this.grades.size());  // double math, ArrayList grades object maintains its size\n",
    "    }\n",
    "\n",
    "    // static main method, used as driver and tester\n",
    "    public static void main(String[] args) {\n",
    "        GradeCalculator grades = new GradeCalculator(); // calls constructor, creates object, which calls enterGrades\n",
    "        System.out.println(\"Average: \" + String.format(\"%.2f\", grades.average()));  // format used to standardize to two decimal points\n",
    "    }\n",
    "}\n",
    "// IJava activation\n",
    "GradeCalculator.main(null);"
   ]
  },
  {
   "attachments": {},
   "cell_type": "markdown",
   "metadata": {},
   "source": [
    "## Hacks\n",
    "Build your own Jupyter Notebook meeting these College Board and CTE competencies\n",
    "- Use Scanner example above to give a warning message and continue with input until correct data type is provided.  Kind of like a test with hints.\n",
    "- Define in a Class the following data types\n",
    "    - Demonstrate use of Primitives: int, double, boolean\n",
    "    - Demonstrate use of Reference data type: String \n",
    "- Describe in comments how each data type choice is appropriate to the application\n",
    "- Use Jupyter cell to perform an arithmetic expressions that uses casting, add comments that show how it produces desired result (ie `double convertedValue = (double) intValue;`).  Learn more by watching this [College Board video](https://apclassroom.collegeboard.org/8/home?apd=ovg96bpudo&unit=1)\n",
    "- Perform compound assignment operator (ie `intValue += 5;`), add comments to describe the result of operation.\n",
    "\n",
    "Expectations\n",
    "1. Multiple inputs and outputs are required.\n",
    "2. Jupyter NoteBook when committed to GitHub Pages must display Outputs\n",
    "3. Building something that helps you study for another class or solve a problem of intest. Here are some ideas: MPG, GPA, Celsius to Fahrenheit, Primes in range of numbers, Points per Game "
   ]
  },
  {
   "cell_type": "code",
   "execution_count": 6,
   "metadata": {
    "vscode": {
     "languageId": "java"
    }
   },
   "outputs": [
    {
     "ename": "UnresolvedReferenceException",
     "evalue": "Attempt to use definition snippet with unresolved references in Snippet:ClassKey(GPACalculator)#17-public class GPACalculator {\n    // introduction to Double wrapper class (object)\n    ArrayList<Double> grades;   // similar to Python list\n\n    // constructor, initializes ArrayList and call enterGrades method\n    public GPACalculator() {\n        this.grades = new ArrayList<>();\n        this.enterLetters();\n    }\n\n\n    // enterGrades input method using scanner\n    private void enterLetters() {\n        Scanner input;\n\n        while (true) {\n            input = new Scanner(System.in);\n            System.out.print(\"Enter a grade, q to exit: \");\n            try {\n                string sampleInputString = input.nextLine();\n                System.out.println(sampleInputString);\n                if (sampleInputString == \"q\") break;       // exit loop on isZero\n                else {\n                    if (sampleInputString == \"A\") {\n                        this.grades.add(4.0);\n                    } else if (sampleInputString == \"B\") {\n                        this.grades.add(3.0);\n                    } else if (sampleInputString == \"C\") {\n                        this.grades.add(2.0);\n                    } else if (sampleInputString == \"D\") {\n                        this.grades.add(1.0);\n                    } else if (sampleInputString == \"F\") {\n                        this.grades.add(0.0);\n                    } else {\n                        System.out.println(\"Not a valid grade (A, B, C, D, F), \");\n                    }\n                };    // adding to object, ArrayList grades\n            } catch (Exception e) {  // if not a string\n                System.out.println(\"Not a string (form like A), \" + e);\n            }\n            input.close();\n        }\n    }\n\n    // average calculation \n    public double average() {\n        double total = 0;   // running total\n        for (double num : this.grades) {    // enhanced for loop\n            total += num;   // shortcut add and assign operator\n        }\n        return (total / this.grades.size());  // double math, ArrayList grades object maintains its size\n    }\n\n    // static main method, used as driver and tester\n    public static void main(String[] args) {\n        GPACalculator grades = new GPACalculator(); // calls constructor, creates object, which calls enterGrades\n        System.out.println(\"Average: \" + String.format(\"%.2f\", grades.average()));  // format used to standardize to two decimal points\n    }\n}",
     "output_type": "error",
     "traceback": [
      "\u001b[1m\u001b[30m|   \u001b[1m\u001b[30mpublic class GPACalculator {\u001b[0m",
      "\u001b[1m\u001b[30m|   \u001b[1m\u001b[30m    // introduction to Double wrapper class (object)\u001b[0m",
      "\u001b[1m\u001b[30m|   \u001b[1m\u001b[30m    ArrayList<Double> grades;   // similar to Python list\u001b[0m",
      "\u001b[1m\u001b[30m|   \u001b[1m\u001b[30m\u001b[0m",
      "\u001b[1m\u001b[30m|   \u001b[1m\u001b[30m    // constructor, initializes ArrayList and call enterGrades method\u001b[0m",
      "\u001b[1m\u001b[30m|   \u001b[1m\u001b[30m    public GPACalculator() {\u001b[0m",
      "\u001b[1m\u001b[30m|   \u001b[1m\u001b[30m        this.grades = new ArrayList<>();\u001b[0m",
      "\u001b[1m\u001b[30m|   \u001b[1m\u001b[30m        this.enterLetters();\u001b[0m",
      "\u001b[1m\u001b[30m|   \u001b[1m\u001b[30m    }\u001b[0m",
      "\u001b[1m\u001b[30m|   \u001b[1m\u001b[30m\u001b[0m",
      "\u001b[1m\u001b[30m|   \u001b[1m\u001b[30m\u001b[0m",
      "\u001b[1m\u001b[30m|   \u001b[1m\u001b[30m    // enterGrades input method using scanner\u001b[0m",
      "\u001b[1m\u001b[30m|   \u001b[1m\u001b[30m    private void enterLetters() {\u001b[0m",
      "\u001b[1m\u001b[30m|   \u001b[1m\u001b[30m        Scanner input;\u001b[0m",
      "\u001b[1m\u001b[30m|   \u001b[1m\u001b[30m\u001b[0m",
      "\u001b[1m\u001b[30m|   \u001b[1m\u001b[30m        while (true) {\u001b[0m",
      "\u001b[1m\u001b[30m|   \u001b[1m\u001b[30m            input = new Scanner(System.in);\u001b[0m",
      "\u001b[1m\u001b[30m|   \u001b[1m\u001b[30m            System.out.print(\"Enter a grade, q to exit: \");\u001b[0m",
      "\u001b[1m\u001b[30m|   \u001b[1m\u001b[30m            try {\u001b[0m",
      "\u001b[1m\u001b[30m|   \u001b[1m\u001b[30m                string sampleInputString = input.nextLine();\u001b[0m",
      "\u001b[1m\u001b[30m|   \u001b[1m\u001b[30m                System.out.println(sampleInputString);\u001b[0m",
      "\u001b[1m\u001b[30m|   \u001b[1m\u001b[30m                if (sampleInputString == \"q\") break;       // exit loop on isZero\u001b[0m",
      "\u001b[1m\u001b[30m|   \u001b[1m\u001b[30m                else {\u001b[0m",
      "\u001b[1m\u001b[30m|   \u001b[1m\u001b[30m                    if (sampleInputString == \"A\") {\u001b[0m",
      "\u001b[1m\u001b[30m|   \u001b[1m\u001b[30m                        this.grades.add(4.0);\u001b[0m",
      "\u001b[1m\u001b[30m|   \u001b[1m\u001b[30m                    } else if (sampleInputString == \"B\") {\u001b[0m",
      "\u001b[1m\u001b[30m|   \u001b[1m\u001b[30m                        this.grades.add(3.0);\u001b[0m",
      "\u001b[1m\u001b[30m|   \u001b[1m\u001b[30m                    } else if (sampleInputString == \"C\") {\u001b[0m",
      "\u001b[1m\u001b[30m|   \u001b[1m\u001b[30m                        this.grades.add(2.0);\u001b[0m",
      "\u001b[1m\u001b[30m|   \u001b[1m\u001b[30m                    } else if (sampleInputString == \"D\") {\u001b[0m",
      "\u001b[1m\u001b[30m|   \u001b[1m\u001b[30m                        this.grades.add(1.0);\u001b[0m",
      "\u001b[1m\u001b[30m|   \u001b[1m\u001b[30m                    } else if (sampleInputString == \"F\") {\u001b[0m",
      "\u001b[1m\u001b[30m|   \u001b[1m\u001b[30m                        this.grades.add(0.0);\u001b[0m",
      "\u001b[1m\u001b[30m|   \u001b[1m\u001b[30m                    } else {\u001b[0m",
      "\u001b[1m\u001b[30m|   \u001b[1m\u001b[30m                        System.out.println(\"Not a valid grade (A, B, C, D, F), \");\u001b[0m",
      "\u001b[1m\u001b[30m|   \u001b[1m\u001b[30m                    }\u001b[0m",
      "\u001b[1m\u001b[30m|   \u001b[1m\u001b[30m                };    // adding to object, ArrayList grades\u001b[0m",
      "\u001b[1m\u001b[30m|   \u001b[1m\u001b[30m            } catch (Exception e) {  // if not a string\u001b[0m",
      "\u001b[1m\u001b[30m|   \u001b[1m\u001b[30m                System.out.println(\"Not a string (form like A), \" + e);\u001b[0m",
      "\u001b[1m\u001b[30m|   \u001b[1m\u001b[30m            }\u001b[0m",
      "\u001b[1m\u001b[30m|   \u001b[1m\u001b[30m            input.close();\u001b[0m",
      "\u001b[1m\u001b[30m|   \u001b[1m\u001b[30m        }\u001b[0m",
      "\u001b[1m\u001b[30m|   \u001b[1m\u001b[30m    }\u001b[0m",
      "\u001b[1m\u001b[30m|   \u001b[1m\u001b[30m\u001b[0m",
      "\u001b[1m\u001b[30m|   \u001b[1m\u001b[30m    // average calculation \u001b[0m",
      "\u001b[1m\u001b[30m|   \u001b[1m\u001b[30m    public double average() {\u001b[0m",
      "\u001b[1m\u001b[30m|   \u001b[1m\u001b[30m        double total = 0;   // running total\u001b[0m",
      "\u001b[1m\u001b[30m|   \u001b[1m\u001b[30m        for (double num : this.grades) {    // enhanced for loop\u001b[0m",
      "\u001b[1m\u001b[30m|   \u001b[1m\u001b[30m            total += num;   // shortcut add and assign operator\u001b[0m",
      "\u001b[1m\u001b[30m|   \u001b[1m\u001b[30m        }\u001b[0m",
      "\u001b[1m\u001b[30m|   \u001b[1m\u001b[30m        return (total / this.grades.size());  // double math, ArrayList grades object maintains its size\u001b[0m",
      "\u001b[1m\u001b[30m|   \u001b[1m\u001b[30m    }\u001b[0m",
      "\u001b[1m\u001b[30m|   \u001b[1m\u001b[30m\u001b[0m",
      "\u001b[1m\u001b[30m|   \u001b[1m\u001b[30m    // static main method, used as driver and tester\u001b[0m",
      "\u001b[1m\u001b[30m|   \u001b[1m\u001b[30m    public static void main(String[] args) {\u001b[0m",
      "\u001b[1m\u001b[30m|   \u001b[1m\u001b[30m        GPACalculator grades = new GPACalculator(); // calls constructor, creates object, which calls enterGrades\u001b[0m",
      "\u001b[1m\u001b[30m|   \u001b[1m\u001b[30m        System.out.println(\"Average: \" + String.format(\"%.2f\", grades.average()));  // format used to standardize to two decimal points\u001b[0m",
      "\u001b[1m\u001b[30m|   \u001b[1m\u001b[30m    }\u001b[0m",
      "\u001b[1m\u001b[30m|   \u001b[1m\u001b[30m}\u001b[0m",
      "\u001b[1m\u001b[31mUnresolved dependencies:\u001b[0m",
      "\u001b[1m\u001b[31m   - class string\u001b[0m"
     ]
    }
   ],
   "source": [
    "public class GPACalculator {\n",
    "    // introduction to Double wrapper class (object)\n",
    "    ArrayList<Double> grades;   // similar to Python list\n",
    "\n",
    "    // constructor, initializes ArrayList and call enterGrades method\n",
    "    public GPACalculator() {\n",
    "        this.grades = new ArrayList<>();\n",
    "        this.enterLetters();\n",
    "    }\n",
    "\n",
    "\n",
    "    // enterGrades input method using scanner\n",
    "    private void enterLetters() {\n",
    "        Scanner input;\n",
    "\n",
    "        while (true) {\n",
    "            input = new Scanner(System.in);\n",
    "            System.out.print(\"Enter a grade, q to exit: \");\n",
    "            try {\n",
    "                string sampleInputString = input.nextLine();\n",
    "                System.out.println(sampleInputString);\n",
    "                if (sampleInputString == \"q\") break;       // exit loop on isZero\n",
    "                else {\n",
    "                    if (sampleInputString == \"A\") {\n",
    "                        this.grades.add(4.0);\n",
    "                    } else if (sampleInputString == \"B\") {\n",
    "                        this.grades.add(3.0);\n",
    "                    } else if (sampleInputString == \"C\") {\n",
    "                        this.grades.add(2.0);\n",
    "                    } else if (sampleInputString == \"D\") {\n",
    "                        this.grades.add(1.0);\n",
    "                    } else if (sampleInputString == \"F\") {\n",
    "                        this.grades.add(0.0);\n",
    "                    } else {\n",
    "                        System.out.println(\"Not a valid grade (A, B, C, D, F), \");\n",
    "                    }\n",
    "                };    // adding to object, ArrayList grades\n",
    "            } catch (Exception e) {  // if not a string\n",
    "                System.out.println(\"Not a string (form like A), \" + e);\n",
    "            }\n",
    "            input.close();\n",
    "        }\n",
    "    }\n",
    "\n",
    "    // average calculation \n",
    "    public double average() {\n",
    "        double total = 0;   // running total\n",
    "        for (double num : this.grades) {    // enhanced for loop\n",
    "            total += num;   // shortcut add and assign operator\n",
    "        }\n",
    "        return (total / this.grades.size());  // double math, ArrayList grades object maintains its size\n",
    "    }\n",
    "\n",
    "    // static main method, used as driver and tester\n",
    "    public static void main(String[] args) {\n",
    "        GPACalculator grades = new GPACalculator(); // calls constructor, creates object, which calls enterGrades\n",
    "        System.out.println(\"Average: \" + String.format(\"%.2f\", grades.average()));  // format used to standardize to two decimal points\n",
    "    }\n",
    "}\n",
    "// IJava activation\n",
    "GPACalculator.main(null);"
   ]
  }
 ],
 "metadata": {
  "kernelspec": {
   "display_name": "Java",
   "language": "java",
   "name": "java"
  },
  "language_info": {
   "codemirror_mode": "java",
   "file_extension": ".jshell",
   "mimetype": "text/x-java-source",
   "name": "Java",
   "pygments_lexer": "java",
   "version": "11.0.20.1+0"
  },
  "orig_nbformat": 4
 },
 "nbformat": 4,
 "nbformat_minor": 2
}
