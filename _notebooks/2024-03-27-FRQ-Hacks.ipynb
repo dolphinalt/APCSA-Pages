{
 "cells": [
  {
   "cell_type": "markdown",
   "metadata": {},
   "source": [
    "---\n",
    "title: FRQ Hacks\n",
    "author: Ethan\n",
    "date: 2024-03-27 11:33:00 +0800\n",
    "week: 27\n",
    "categories: [Week27]\n",
    "tags: week27\n",
    "type: hacks\n",
    "pin: false\n",
    "mermaid: false\n",
    "---"
   ]
  },
  {
   "cell_type": "markdown",
   "metadata": {},
   "source": [
    "## ## Question 1: Primitive Types vs Reference Types (Unit 1)\n",
    "\n",
    "Situation: You are developing a banking application where you need to represent customer information. You have decided to use both primitive types and reference types for this purpose.\n",
    "\n",
    "(a) Define primitive types and reference types in Java. Provide examples of each.\n",
    "\n",
    "(b) Explain the differences between primitive types and reference types in terms of memory allocation and usage in Java programs.\n",
    "\n",
    "(c) Code:\n",
    "\n",
    "You have a method calculateInterest that takes a primitive double type representing the principal amount and a reference type Customer representing the customer information. Write the method signature and the method implementation. Include comments to explain your code.\n",
    "\n",
    "## My Solution"
   ]
  },
  {
   "cell_type": "code",
   "execution_count": null,
   "metadata": {
    "vscode": {
     "languageId": "java"
    }
   },
   "outputs": [],
   "source": [
    "// A:\n",
    "\n",
    "// primitivie types are the basic types defined by the language\n",
    "int num =1;\n",
    "double decimal = 1.1;\n",
    "boolean bool = true;\n",
    "char character = 'A';\n",
    "\n",
    "// reference types are classes\n",
    "String str = \"Hello\";\n",
    "Class class = new Class();\n",
    "ArrayList<Integer> list = new ArrayList<>();\n",
    "\n",
    "// B:\n",
    "// primitives are stored directly in stack memory, while reference types are stored in heap memory. Primitives hold a var's true value while references are a references to a memory location"
   ]
  },
  {
   "cell_type": "code",
   "execution_count": 1,
   "metadata": {
    "vscode": {
     "languageId": "java"
    }
   },
   "outputs": [
    {
     "name": "stdout",
     "output_type": "stream",
     "text": [
      "Interest: 100.0\n"
     ]
    }
   ],
   "source": [
    "// C:\n",
    "class Customer { // define customer class\n",
    "    private double interestRate; // define the var interestRate\n",
    "\n",
    "    public Customer(double interestRate) {\n",
    "        this.interestRate = interestRate;\n",
    "    }\n",
    "\n",
    "    public double getInterestRate() {\n",
    "        return interestRate; // return the interest rate of the customer\n",
    "    }\n",
    "}\n",
    "\n",
    "public class Bank {\n",
    "    public double calculateInterest(double principal, Customer customer) {\n",
    "        double interestRate = customer.getInterestRate(); // get interest rate from customer\n",
    "        double interest = principal*interestRate; // calculate interest rate by doing principle multiplied by the rate\n",
    "        return interest;\n",
    "    }\n",
    "\n",
    "    public static void main(String[] args) { // main tester method\n",
    "        Customer customer = new Customer(0.1);\n",
    "        double principal = 1000.0;\n",
    "        Bank bank = new Bank();\n",
    "        double interest = bank.calculateInterest(principal, customer);\n",
    "        System.out.println(\"Interest: \" + interest);\n",
    "    }\n",
    "}\n",
    "\n",
    "Bank.main(null);"
   ]
  },
  {
   "cell_type": "markdown",
   "metadata": {},
   "source": [
    "## Question 2: Iteration over 2D arrays (Unit 4)\n",
    "Situation: You are developing a game where you need to track player scores on a 2D grid representing levels and attempts.\n",
    "\n",
    "(a) Explain the concept of iteration over a 2D array in Java. Provide an example scenario where iterating over a 2D array is useful in a programming task.\n",
    "\n",
    "(b) Code:\n",
    "\n",
    "You need to implement a method calculateTotalScore that takes a 2D array scores of integers representing player scores and returns the sum of all the elements in the array. Write the method signature and the method implementation. Include comments to explain your code.\n",
    "\n",
    "## My Solution"
   ]
  },
  {
   "cell_type": "code",
   "execution_count": 2,
   "metadata": {
    "vscode": {
     "languageId": "java"
    }
   },
   "outputs": [
    {
     "name": "stdout",
     "output_type": "stream",
     "text": [
      "Total Score: 758\n"
     ]
    }
   ],
   "source": [
    "// A:\n",
    "// Iteration over a 2D array is when you go through every element in a 2D array. This can be done by an i j loop. A 2D array can be useful when analyzing cartesian graphical values\n",
    "\n",
    "// B:\n",
    "public class Game {\n",
    "    public static int calculateTotalScore(int[][] scores) { // method to calculate total score\n",
    "        int total = 0;\n",
    "        for (int i = 0; i < scores.length; i++) {\n",
    "            for (int j = 0; j < scores[i].length; j++) { // i j loop to iterate through 2D array\n",
    "                total += scores[i][j];\n",
    "            }\n",
    "        }\n",
    "        return total;\n",
    "\n",
    "    }\n",
    "\n",
    "    public static void main(String[] args) { // main tester method\n",
    "        int[][] scores = {\n",
    "            {1, 22, 3},\n",
    "            {11, 22, 33},\n",
    "            {111, 222, 333}\n",
    "        };\n",
    "\n",
    "        Game game = new Game(); // create new game instance\n",
    "\n",
    "        int totalScore = game.calculateTotalScore(scores); // calculating the score\n",
    "        System.out.println(\"Total Score: \" + totalScore);\n",
    "    }\n",
    "}\n",
    "\n",
    "Game.main(null);"
   ]
  },
  {
   "cell_type": "markdown",
   "metadata": {},
   "source": [
    "## Question 5: If, While, Else (Unit 3-4)\n",
    "\n",
    "Situation: You are developing a simple grading system where you need to determine if a given score is passing or failing.\n",
    "\n",
    "(a) Explain the roles and usage of the if statement, while loop, and else statement in Java programming. Provide examples illustrating each.\n",
    "\n",
    "(b) Code:\n",
    "\n",
    "You need to implement a method printGradeStatus that takes an integer score as input and prints “Pass” if the score is greater than or equal to 60, and “Fail” otherwise. Write the method signature and the method implementation. Include comments to explain your code.\n",
    "\n",
    "## My Solution"
   ]
  },
  {
   "cell_type": "code",
   "execution_count": 9,
   "metadata": {
    "vscode": {
     "languageId": "java"
    }
   },
   "outputs": [
    {
     "name": "stdout",
     "output_type": "stream",
     "text": [
      "Age: 0\n",
      "Child!\n",
      "Age: 1\n",
      "Child!\n",
      "Age: 2\n",
      "Child!\n",
      "Age: 3\n",
      "Child!\n",
      "Age: 4\n",
      "Child!\n",
      "Age: 5\n",
      "Child!\n",
      "Age: 6\n",
      "Child!\n",
      "Age: 7\n",
      "Child!\n",
      "Age: 8\n",
      "Child!\n",
      "Age: 9\n",
      "Child!\n",
      "Age: 10\n",
      "Child!\n",
      "Age: 11\n",
      "Child!\n",
      "Age: 12\n",
      "Child!\n",
      "Age: 13\n",
      "Child!\n",
      "Age: 14\n",
      "Child!\n",
      "Age: 15\n",
      "Child!\n",
      "Age: 16\n",
      "Child!\n",
      "Age: 17\n",
      "Child!\n",
      "Age: 18\n",
      "Child!\n",
      "Age: 19\n",
      "Adult!\n"
     ]
    },
    {
     "name": "stdout",
     "output_type": "stream",
     "text": [
      "================\n",
      "Pass! 75%\n",
      "Fail! 40%\n"
     ]
    }
   ],
   "source": [
    "// A:\n",
    "// If statements are used as a conditional when we need to decide between one thing or another depending on the value of a variable\n",
    "// While loops are used when we want to loop a block of code until a condition is met\n",
    "// Else statements are used at the end of an if conditional block and is used as a \"catch all\"\n",
    "\n",
    "int age = 0;\n",
    "\n",
    "while (age < 20) {\n",
    "    System.out.println(\"Age: \" + age);\n",
    "    if (age > 18) {\n",
    "        System.out.println(\"Adult!\");\n",
    "    } else {\n",
    "        System.out.println(\"Child!\");\n",
    "    }\n",
    "    age++;\n",
    "}\n",
    "\n",
    "// B:\n",
    "System.out.println(\"================\");\n",
    "\n",
    "public class Grade {\n",
    "    public void getStatus(int score) {\n",
    "        if (score >= 60) { // checks if score is greater than or equal to 60\n",
    "            System.out.println(\"Pass! \" + score + \"%\"); // passes if condition is met\n",
    "        } else {\n",
    "            System.out.println(\"Fail! \" + score + \"%\"); // fails if condition is not met\n",
    "        }\n",
    "    }\n",
    "\n",
    "    public static void main(String[] args) {\n",
    "        Grade g = new Grade();\n",
    "\n",
    "        g.getStatus(75);\n",
    "        g.getStatus(40);\n",
    "    }\n",
    "}\n",
    "\n",
    "Grade.main(null);"
   ]
  }
 ],
 "metadata": {
  "kernelspec": {
   "display_name": "Java",
   "language": "java",
   "name": "java"
  },
  "language_info": {
   "codemirror_mode": "java",
   "file_extension": ".jshell",
   "mimetype": "text/x-java-source",
   "name": "Java",
   "pygments_lexer": "java",
   "version": "21.0.1"
  }
 },
 "nbformat": 4,
 "nbformat_minor": 2
}
