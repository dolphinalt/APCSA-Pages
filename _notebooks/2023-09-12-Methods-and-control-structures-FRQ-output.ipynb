{
 "cells": [
  {
   "cell_type": "markdown",
   "metadata": {},
   "source": [
    "---\n",
    "title: Methods and control structures FRQ output\n",
    "author: Ethan\n",
    "date: 2023-09-12 11:33:00 +0800\n",
    "week: 4\n",
    "categories: [Week4]\n",
    "tags: week4\n",
    "type: hacks\n",
    "pin: false\n",
    "mermaid: false\n",
    "---"
   ]
  },
  {
   "cell_type": "code",
   "execution_count": 19,
   "metadata": {
    "vscode": {
     "languageId": "java"
    }
   },
   "outputs": [
    {
     "name": "stdout",
     "output_type": "stream",
     "text": [
      "2400\n"
     ]
    }
   ],
   "source": [
    "import java.io.*;\n",
    "\n",
    "boolean isBonus = true;\n",
    "\n",
    "// public void initializeVars(boolean goal1, int score1, boolean goal2, int score2, boolean goal3, int score3, boolean bonus)\n",
    "// {\n",
    "//     global goalLevelOne = goal1;\n",
    "//     global scoreLevelOne = score1;\n",
    "//     global goalLevelTwo = goal2;\n",
    "//     global scoreLevelTwo = score2;\n",
    "//     global goalLevelThree = goal3;\n",
    "//     global scoreLevelThree = score3;\n",
    "//     global isBonus = bonus;\n",
    "// }\n",
    "\n",
    "// public void initializeVarsInput()\n",
    "// {\n",
    "//     System.out.println(\"test\");\n",
    "// }\n",
    "\n",
    "// public class levelOne\n",
    "// {\n",
    "//     public boolean goalReached()\n",
    "//     {\n",
    "//         return true;\n",
    "//     }\n",
    "//     public int getScore()\n",
    "//     {\n",
    "//         return 200;\n",
    "//     }\n",
    "// }\n",
    "// public class levelTwo\n",
    "// {\n",
    "//     public boolean goalReached()\n",
    "//     {\n",
    "//         return true;\n",
    "//     }\n",
    "//     public int getScore()\n",
    "//     {\n",
    "//         return 100;\n",
    "//     }\n",
    "// }\n",
    "// public class levelThree\n",
    "// {\n",
    "//     public boolean goalReached()\n",
    "//     {\n",
    "//         return true;\n",
    "//     }\n",
    "//     public int getScore()\n",
    "//     {\n",
    "//         return 500;\n",
    "//     }\n",
    "// }\n",
    "\n",
    "public class Game\n",
    "{\n",
    "    /** Postcondition: All instance variables have been initialized. */\n",
    "    public Game()\n",
    "    {    System.out.println(getScore());    }\n",
    "\n",
    "    //** Returns `true` if this game is a bonus game and returns `false` otherwise */\n",
    "    public boolean isBonus()\n",
    "    {    return true;    }\n",
    "\n",
    "    /** Simulates the play of this `Game` (consisting of three levels) and updates all relevant\n",
    "     *  game data\n",
    "     */\n",
    "    public void play()\n",
    "    {    initializeVarsInput();    }\n",
    "\n",
    "    /** Returns the score earned in the most recently played game, as described in part (a) */\n",
    "    public int getScore()\n",
    "    /* to be implemented in part (a) */\n",
    "    {\n",
    "        int score = 0;\n",
    "        if (true) {\n",
    "            score = score + 200;\n",
    "            if (true) {\n",
    "                score = score + 100;\n",
    "                if (true) {\n",
    "                    score = score + 500;\n",
    "                }\n",
    "            }\n",
    "        }\n",
    "        if (true) {\n",
    "            score = score * 3;\n",
    "        }\n",
    "        return score;\n",
    "    }\n",
    "\n",
    "    /** Simulates the play of `num` games and returns the highest score earned, as\n",
    "     *  described in part (b)\n",
    "     *  Precondition: num > 0\n",
    "     */\n",
    "    public int playManyTimes(int num)\n",
    "    /* to be implemented in part (b) */\n",
    "    {\n",
    "        int max = 0;\n",
    "        for (int i=0; i<num; i++) {\n",
    "            play();\n",
    "            int score = getScore();\n",
    "            if (score > max) {\n",
    "                max = score;\n",
    "            }\n",
    "        }\n",
    "        return max;\n",
    "    }\n",
    "\n",
    "    // There may be instance variables, constructors, and methods that are not shown.\n",
    "}"
   ]
  },
  {
   "cell_type": "markdown",
   "metadata": {},
   "source": [
    "## Now lets run the code"
   ]
  },
  {
   "cell_type": "code",
   "execution_count": 18,
   "metadata": {
    "vscode": {
     "languageId": "java"
    }
   },
   "outputs": [
    {
     "ename": "CompilationException",
     "evalue": "",
     "output_type": "error",
     "traceback": [
      "\u001b[1m\u001b[30m|   \u001b[1m\u001b[30m\u001b[0m\u001b[1m\u001b[30m\u001b[41mGame.Game\u001b[0m\u001b[1m\u001b[30m();\u001b[0m",
      "\u001b[1m\u001b[31mcannot find symbol\u001b[0m",
      "\u001b[1m\u001b[31m  symbol:   method Game()\u001b[0m",
      ""
     ]
    }
   ],
   "source": [
    "// all values taken from college board example table\n",
    "\n",
    "// initializeVars(true, 200, true, 100, true, 500, true);\n",
    "Game.Game();\n",
    "\n",
    "// initializeVars(true, 200, true, 100, false, 500, false);\n",
    "// Game.getScore();\n",
    "\n",
    "// initializeVars(true, 200, false, 100, true, 500, true);\n",
    "// Game.getScore();\n",
    "\n",
    "// initializeVars(false, 200, true, 100, true, 500, false);\n",
    "// Game.getScore();\n"
   ]
  }
 ],
 "metadata": {
  "kernelspec": {
   "display_name": "Java",
   "language": "java",
   "name": "java"
  },
  "language_info": {
   "codemirror_mode": "java",
   "file_extension": ".jshell",
   "mimetype": "text/x-java-source",
   "name": "Java",
   "pygments_lexer": "java",
   "version": "11.0.20.1+0"
  },
  "orig_nbformat": 4
 },
 "nbformat": 4,
 "nbformat_minor": 2
}
