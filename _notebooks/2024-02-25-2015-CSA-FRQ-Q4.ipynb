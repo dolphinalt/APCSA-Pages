{
 "cells": [
  {
   "cell_type": "markdown",
   "metadata": {},
   "source": [
    "---\n",
    "title: 2015 CSA FRQ Q4\n",
    "author: Ethan\n",
    "date: 2024-02-25 11:33:00 +0800\n",
    "week: 21\n",
    "categories: [Week21]\n",
    "tags: week21\n",
    "type: hacks\n",
    "pin: false\n",
    "mermaid: false\n",
    "---"
   ]
  },
  {
   "cell_type": "markdown",
   "metadata": {},
   "source": [
    "## Question 4\n",
    "\n",
    "**Directions:** SHOW ALL YOUR WORK. REMEMBER THAT PROGRAM SEGMENTS ARE TO BE WRITTEN IN JAVA.\n",
    "\n",
    "Notes:\n",
    " \n",
    " - Assume that the classes listed in the Java Quick Reference have been imported where appropriate.\n",
    "\n",
    " - Unless otherwise noted in the question, assume that parameters in method calls are not null and that methods are called only when their preconditions are satisfied.\n",
    "\n",
    " - In writing solutions for each question, you may use any of the accessible methods that are listed in classes defined in that question. Writing significant amounts of code that can be replaced by a call to one of these methods will not receive full credit.\n",
    "\n",
    "This question involves the design of an interface, writing a class that implements the interface, and writing a method that uses the interface.\n",
    "\n",
    "(a) A number group represents a group of integers defined in some way. It could be empty, or it could contain one or more integers.\n",
    "\n",
    "Write an interface named NumberGroup that represents a group of integers. The interface should have a single contains method that determines if a given integer is in the group. For example, if group1 is of type NumberGroup, and it contains only the two numbers -5 and 3, then group1.contains(-5) would return true, and group1.contains(2) would return false.\n",
    "Write the complete NumberGroup interface. It must have exactly one method."
   ]
  },
  {
   "cell_type": "code",
   "execution_count": 3,
   "metadata": {
    "vscode": {
     "languageId": "java"
    }
   },
   "outputs": [],
   "source": [
    "public interface NumberGroup {\n",
    "    boolean contains(int value);\n",
    "}\n",
    "\n",
    "/* explanation:\n",
    " * \n",
    " * Pretty simple, just a single method interface that returns a boolean.\n",
    " * \n",
    " */"
   ]
  },
  {
   "cell_type": "markdown",
   "metadata": {},
   "source": [
    "(b) A range represents a number group that contains all (and only) the integers between a minimum value and a maximum value, inclusive.\n",
    "Write the Range class, which is a NumberGroup. The Range class represents the group of int values that range from a given minimum value up through a given maximum value, inclusive. For example,the declaration\n",
    "\n",
    "NumberGroup range1 = new Range(-3, 2); represents the group of integer values -3, -2, -1, 0, 1, 2.\n",
    "\n",
    "Write the complete Range class. Include all necessary instance variables and methods as well as a constructor that takes two int parameters. The first parameter represents the minimum value, and the second parameter represents the maximum value of the range. You may assume that the minimum is less than or equal to the maximum."
   ]
  },
  {
   "cell_type": "code",
   "execution_count": 4,
   "metadata": {
    "vscode": {
     "languageId": "java"
    }
   },
   "outputs": [],
   "source": [
    "public class Range implements NumberGroup {\n",
    "    private int min;\n",
    "    private int max;\n",
    "\n",
    "    public Range(int min, int max) {\n",
    "        this.min = min;\n",
    "        this.max = max;\n",
    "    }\n",
    "\n",
    "    public boolean contains(int value) {\n",
    "        return value >= min && value <= max;\n",
    "    }\n",
    "}\n",
    "\n",
    "/* explanation:\n",
    " * \n",
    " * Lets take in the min and max values in a range, then check to see if a given value is within that range. If it is, we return true\n",
    " * else we return false.\n",
    " * \n",
    " */"
   ]
  },
  {
   "cell_type": "markdown",
   "metadata": {},
   "source": [
    "(c) The MultipleGroups class (not shown) represents a collection of NumberGroup objects and isa NumberGroup. The MultipleGroups class stores the number groups in the instance variable groupList (shown below), which is initialized in the constructor.\n",
    "\n",
    "private List<NumberGroup> groupList;\n",
    "\n",
    "Write the MultipleGroups method contains. The method takes an integer and returns true if and only if the integer is contained in one or more of the number groups in groupList.\n",
    "\n",
    "For example, suppose multiple1 has been declared as an instance of MultipleGroups and consists of the three ranges created by the calls new Range(5, 8), new Range(10, 12), and new Range(1, 6). The following table shows the results of several calls to contains."
   ]
  },
  {
   "cell_type": "code",
   "execution_count": 7,
   "metadata": {
    "vscode": {
     "languageId": "java"
    }
   },
   "outputs": [
    {
     "name": "stdout",
     "output_type": "stream",
     "text": [
      "true\n",
      "false\n"
     ]
    },
    {
     "name": "stdout",
     "output_type": "stream",
     "text": [
      "true\n",
      "false\n",
      "true\n"
     ]
    }
   ],
   "source": [
    "public class MultipleGroups implements NumberGroup {\n",
    "    private NumberGroup[] groupList;\n",
    "\n",
    "    public MultipleGroups(NumberGroup[] groupList) {\n",
    "        this.groupList = groupList;\n",
    "    }\n",
    "\n",
    "    public boolean contains(int value) {\n",
    "        for (NumberGroup group : groupList) {\n",
    "            if (group.contains(value)) {\n",
    "                return true;\n",
    "            }\n",
    "        }\n",
    "        return false;\n",
    "    }\n",
    "}\n",
    "\n",
    "/* explanation:\n",
    " * \n",
    " * Now we take multiple ranges and check to see if a given value is within any of them. If so, we return true, else false.\n",
    " * \n",
    " */\n",
    "\n",
    "NumberGroup test1 = new Range(-3, 2);\n",
    "System.out.println(test1.contains(-2)); // should return true\n",
    "System.out.println(test1.contains(3)); // should return false\n",
    "\n",
    "NumberGroup test2 = new Range(4, 7);\n",
    "NumberGroup test3 = new Range(10, 15);\n",
    "NumberGroup multiplegroups = new MultipleGroups(new NumberGroup[] {test2, test3});\n",
    "System.out.println(multiplegroups.contains(4)); // should return true\n",
    "System.out.println(multiplegroups.contains(100)); // should return false\n",
    "System.out.println(multiplegroups.contains(11)); // should return true\n",
    "\n"
   ]
  }
 ],
 "metadata": {
  "kernelspec": {
   "display_name": "Java",
   "language": "java",
   "name": "java"
  },
  "language_info": {
   "codemirror_mode": "java",
   "file_extension": ".jshell",
   "mimetype": "text/x-java-source",
   "name": "Java",
   "pygments_lexer": "java",
   "version": "21.0.1"
  }
 },
 "nbformat": 4,
 "nbformat_minor": 2
}
